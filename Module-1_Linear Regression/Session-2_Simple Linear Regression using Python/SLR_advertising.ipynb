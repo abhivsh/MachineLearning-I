{
  "cells": [
    {
      "cell_type": "markdown",
      "metadata": {
        "id": "Q8L_IKewOsHv"
      },
      "source": [
        "# Simple Linear Regression\n",
        "\n",
        "In this notebook, we'll build a linear regression model to predict `Sales` using an appropriate predictor variable.\n",
        "\n",
        "Step 1: Reading & Understanding the data\n",
        "\n",
        "Step 2: Training the model\n",
        "\n",
        "Step 3: Residual Analysis\n",
        "\n",
        "Step 4: Prediction & Evaluating the test set"
      ]
    },
    {
      "cell_type": "markdown",
      "metadata": {
        "id": "66jusUHpOsHx"
      },
      "source": [
        "# **Step 1: Reading and Understanding the Data**\n",
        "\n",
        "Let's start with the following steps:\n",
        "\n",
        "1. Importing data using the pandas library\n",
        "2. Understanding the structure of the data"
      ]
    },
    {
      "cell_type": "code",
      "execution_count": null,
      "metadata": {
        "id": "eqpdlewROsHx"
      },
      "outputs": [],
      "source": [
        "# Supress Warnings\n",
        "\n",
        "import warnings\n",
        "warnings.filterwarnings('ignore')"
      ]
    },
    {
      "cell_type": "code",
      "execution_count": 2,
      "metadata": {
        "id": "g9yDT6_cOsHy"
      },
      "outputs": [],
      "source": [
        "# Import the numpy and pandas package\n",
        "\n",
        "import numpy as np\n",
        "import pandas as pd"
      ]
    },
    {
      "cell_type": "code",
      "execution_count": 3,
      "metadata": {
        "colab": {
          "base_uri": "https://localhost:8080/",
          "height": 206
        },
        "id": "_NwMZDKiOsHz",
        "outputId": "4d7868b9-8c8f-4961-bd0e-5f1c9c0aeaa0"
      },
      "outputs": [
        {
          "output_type": "execute_result",
          "data": {
            "text/plain": [
              "      TV  Radio  Newspaper  Sales\n",
              "0  230.1   37.8       69.2   22.1\n",
              "1   44.5   39.3       45.1   10.4\n",
              "2   17.2   45.9       69.3   12.0\n",
              "3  151.5   41.3       58.5   16.5\n",
              "4  180.8   10.8       58.4   17.9"
            ],
            "text/html": [
              "\n",
              "  <div id=\"df-80daf137-9bb6-4f33-ac4d-38c8058a590a\" class=\"colab-df-container\">\n",
              "    <div>\n",
              "<style scoped>\n",
              "    .dataframe tbody tr th:only-of-type {\n",
              "        vertical-align: middle;\n",
              "    }\n",
              "\n",
              "    .dataframe tbody tr th {\n",
              "        vertical-align: top;\n",
              "    }\n",
              "\n",
              "    .dataframe thead th {\n",
              "        text-align: right;\n",
              "    }\n",
              "</style>\n",
              "<table border=\"1\" class=\"dataframe\">\n",
              "  <thead>\n",
              "    <tr style=\"text-align: right;\">\n",
              "      <th></th>\n",
              "      <th>TV</th>\n",
              "      <th>Radio</th>\n",
              "      <th>Newspaper</th>\n",
              "      <th>Sales</th>\n",
              "    </tr>\n",
              "  </thead>\n",
              "  <tbody>\n",
              "    <tr>\n",
              "      <th>0</th>\n",
              "      <td>230.1</td>\n",
              "      <td>37.8</td>\n",
              "      <td>69.2</td>\n",
              "      <td>22.1</td>\n",
              "    </tr>\n",
              "    <tr>\n",
              "      <th>1</th>\n",
              "      <td>44.5</td>\n",
              "      <td>39.3</td>\n",
              "      <td>45.1</td>\n",
              "      <td>10.4</td>\n",
              "    </tr>\n",
              "    <tr>\n",
              "      <th>2</th>\n",
              "      <td>17.2</td>\n",
              "      <td>45.9</td>\n",
              "      <td>69.3</td>\n",
              "      <td>12.0</td>\n",
              "    </tr>\n",
              "    <tr>\n",
              "      <th>3</th>\n",
              "      <td>151.5</td>\n",
              "      <td>41.3</td>\n",
              "      <td>58.5</td>\n",
              "      <td>16.5</td>\n",
              "    </tr>\n",
              "    <tr>\n",
              "      <th>4</th>\n",
              "      <td>180.8</td>\n",
              "      <td>10.8</td>\n",
              "      <td>58.4</td>\n",
              "      <td>17.9</td>\n",
              "    </tr>\n",
              "  </tbody>\n",
              "</table>\n",
              "</div>\n",
              "    <div class=\"colab-df-buttons\">\n",
              "\n",
              "  <div class=\"colab-df-container\">\n",
              "    <button class=\"colab-df-convert\" onclick=\"convertToInteractive('df-80daf137-9bb6-4f33-ac4d-38c8058a590a')\"\n",
              "            title=\"Convert this dataframe to an interactive table.\"\n",
              "            style=\"display:none;\">\n",
              "\n",
              "  <svg xmlns=\"http://www.w3.org/2000/svg\" height=\"24px\" viewBox=\"0 -960 960 960\">\n",
              "    <path d=\"M120-120v-720h720v720H120Zm60-500h600v-160H180v160Zm220 220h160v-160H400v160Zm0 220h160v-160H400v160ZM180-400h160v-160H180v160Zm440 0h160v-160H620v160ZM180-180h160v-160H180v160Zm440 0h160v-160H620v160Z\"/>\n",
              "  </svg>\n",
              "    </button>\n",
              "\n",
              "  <style>\n",
              "    .colab-df-container {\n",
              "      display:flex;\n",
              "      gap: 12px;\n",
              "    }\n",
              "\n",
              "    .colab-df-convert {\n",
              "      background-color: #E8F0FE;\n",
              "      border: none;\n",
              "      border-radius: 50%;\n",
              "      cursor: pointer;\n",
              "      display: none;\n",
              "      fill: #1967D2;\n",
              "      height: 32px;\n",
              "      padding: 0 0 0 0;\n",
              "      width: 32px;\n",
              "    }\n",
              "\n",
              "    .colab-df-convert:hover {\n",
              "      background-color: #E2EBFA;\n",
              "      box-shadow: 0px 1px 2px rgba(60, 64, 67, 0.3), 0px 1px 3px 1px rgba(60, 64, 67, 0.15);\n",
              "      fill: #174EA6;\n",
              "    }\n",
              "\n",
              "    .colab-df-buttons div {\n",
              "      margin-bottom: 4px;\n",
              "    }\n",
              "\n",
              "    [theme=dark] .colab-df-convert {\n",
              "      background-color: #3B4455;\n",
              "      fill: #D2E3FC;\n",
              "    }\n",
              "\n",
              "    [theme=dark] .colab-df-convert:hover {\n",
              "      background-color: #434B5C;\n",
              "      box-shadow: 0px 1px 3px 1px rgba(0, 0, 0, 0.15);\n",
              "      filter: drop-shadow(0px 1px 2px rgba(0, 0, 0, 0.3));\n",
              "      fill: #FFFFFF;\n",
              "    }\n",
              "  </style>\n",
              "\n",
              "    <script>\n",
              "      const buttonEl =\n",
              "        document.querySelector('#df-80daf137-9bb6-4f33-ac4d-38c8058a590a button.colab-df-convert');\n",
              "      buttonEl.style.display =\n",
              "        google.colab.kernel.accessAllowed ? 'block' : 'none';\n",
              "\n",
              "      async function convertToInteractive(key) {\n",
              "        const element = document.querySelector('#df-80daf137-9bb6-4f33-ac4d-38c8058a590a');\n",
              "        const dataTable =\n",
              "          await google.colab.kernel.invokeFunction('convertToInteractive',\n",
              "                                                    [key], {});\n",
              "        if (!dataTable) return;\n",
              "\n",
              "        const docLinkHtml = 'Like what you see? Visit the ' +\n",
              "          '<a target=\"_blank\" href=https://colab.research.google.com/notebooks/data_table.ipynb>data table notebook</a>'\n",
              "          + ' to learn more about interactive tables.';\n",
              "        element.innerHTML = '';\n",
              "        dataTable['output_type'] = 'display_data';\n",
              "        await google.colab.output.renderOutput(dataTable, element);\n",
              "        const docLink = document.createElement('div');\n",
              "        docLink.innerHTML = docLinkHtml;\n",
              "        element.appendChild(docLink);\n",
              "      }\n",
              "    </script>\n",
              "  </div>\n",
              "\n",
              "\n",
              "<div id=\"df-e0b043b5-0848-4f86-92dc-de2966de98e7\">\n",
              "  <button class=\"colab-df-quickchart\" onclick=\"quickchart('df-e0b043b5-0848-4f86-92dc-de2966de98e7')\"\n",
              "            title=\"Suggest charts.\"\n",
              "            style=\"display:none;\">\n",
              "\n",
              "<svg xmlns=\"http://www.w3.org/2000/svg\" height=\"24px\"viewBox=\"0 0 24 24\"\n",
              "     width=\"24px\">\n",
              "    <g>\n",
              "        <path d=\"M19 3H5c-1.1 0-2 .9-2 2v14c0 1.1.9 2 2 2h14c1.1 0 2-.9 2-2V5c0-1.1-.9-2-2-2zM9 17H7v-7h2v7zm4 0h-2V7h2v10zm4 0h-2v-4h2v4z\"/>\n",
              "    </g>\n",
              "</svg>\n",
              "  </button>\n",
              "\n",
              "<style>\n",
              "  .colab-df-quickchart {\n",
              "      --bg-color: #E8F0FE;\n",
              "      --fill-color: #1967D2;\n",
              "      --hover-bg-color: #E2EBFA;\n",
              "      --hover-fill-color: #174EA6;\n",
              "      --disabled-fill-color: #AAA;\n",
              "      --disabled-bg-color: #DDD;\n",
              "  }\n",
              "\n",
              "  [theme=dark] .colab-df-quickchart {\n",
              "      --bg-color: #3B4455;\n",
              "      --fill-color: #D2E3FC;\n",
              "      --hover-bg-color: #434B5C;\n",
              "      --hover-fill-color: #FFFFFF;\n",
              "      --disabled-bg-color: #3B4455;\n",
              "      --disabled-fill-color: #666;\n",
              "  }\n",
              "\n",
              "  .colab-df-quickchart {\n",
              "    background-color: var(--bg-color);\n",
              "    border: none;\n",
              "    border-radius: 50%;\n",
              "    cursor: pointer;\n",
              "    display: none;\n",
              "    fill: var(--fill-color);\n",
              "    height: 32px;\n",
              "    padding: 0;\n",
              "    width: 32px;\n",
              "  }\n",
              "\n",
              "  .colab-df-quickchart:hover {\n",
              "    background-color: var(--hover-bg-color);\n",
              "    box-shadow: 0 1px 2px rgba(60, 64, 67, 0.3), 0 1px 3px 1px rgba(60, 64, 67, 0.15);\n",
              "    fill: var(--button-hover-fill-color);\n",
              "  }\n",
              "\n",
              "  .colab-df-quickchart-complete:disabled,\n",
              "  .colab-df-quickchart-complete:disabled:hover {\n",
              "    background-color: var(--disabled-bg-color);\n",
              "    fill: var(--disabled-fill-color);\n",
              "    box-shadow: none;\n",
              "  }\n",
              "\n",
              "  .colab-df-spinner {\n",
              "    border: 2px solid var(--fill-color);\n",
              "    border-color: transparent;\n",
              "    border-bottom-color: var(--fill-color);\n",
              "    animation:\n",
              "      spin 1s steps(1) infinite;\n",
              "  }\n",
              "\n",
              "  @keyframes spin {\n",
              "    0% {\n",
              "      border-color: transparent;\n",
              "      border-bottom-color: var(--fill-color);\n",
              "      border-left-color: var(--fill-color);\n",
              "    }\n",
              "    20% {\n",
              "      border-color: transparent;\n",
              "      border-left-color: var(--fill-color);\n",
              "      border-top-color: var(--fill-color);\n",
              "    }\n",
              "    30% {\n",
              "      border-color: transparent;\n",
              "      border-left-color: var(--fill-color);\n",
              "      border-top-color: var(--fill-color);\n",
              "      border-right-color: var(--fill-color);\n",
              "    }\n",
              "    40% {\n",
              "      border-color: transparent;\n",
              "      border-right-color: var(--fill-color);\n",
              "      border-top-color: var(--fill-color);\n",
              "    }\n",
              "    60% {\n",
              "      border-color: transparent;\n",
              "      border-right-color: var(--fill-color);\n",
              "    }\n",
              "    80% {\n",
              "      border-color: transparent;\n",
              "      border-right-color: var(--fill-color);\n",
              "      border-bottom-color: var(--fill-color);\n",
              "    }\n",
              "    90% {\n",
              "      border-color: transparent;\n",
              "      border-bottom-color: var(--fill-color);\n",
              "    }\n",
              "  }\n",
              "</style>\n",
              "\n",
              "  <script>\n",
              "    async function quickchart(key) {\n",
              "      const quickchartButtonEl =\n",
              "        document.querySelector('#' + key + ' button');\n",
              "      quickchartButtonEl.disabled = true;  // To prevent multiple clicks.\n",
              "      quickchartButtonEl.classList.add('colab-df-spinner');\n",
              "      try {\n",
              "        const charts = await google.colab.kernel.invokeFunction(\n",
              "            'suggestCharts', [key], {});\n",
              "      } catch (error) {\n",
              "        console.error('Error during call to suggestCharts:', error);\n",
              "      }\n",
              "      quickchartButtonEl.classList.remove('colab-df-spinner');\n",
              "      quickchartButtonEl.classList.add('colab-df-quickchart-complete');\n",
              "    }\n",
              "    (() => {\n",
              "      let quickchartButtonEl =\n",
              "        document.querySelector('#df-e0b043b5-0848-4f86-92dc-de2966de98e7 button');\n",
              "      quickchartButtonEl.style.display =\n",
              "        google.colab.kernel.accessAllowed ? 'block' : 'none';\n",
              "    })();\n",
              "  </script>\n",
              "</div>\n",
              "    </div>\n",
              "  </div>\n"
            ]
          },
          "metadata": {},
          "execution_count": 3
        }
      ],
      "source": [
        "# Read the given CSV file, and view some sample records\n",
        "\n",
        "advertising = pd.read_csv(\"/content/advertising.csv\")\n",
        "advertising.head()"
      ]
    },
    {
      "cell_type": "markdown",
      "metadata": {
        "id": "L8chnQGPOsH0"
      },
      "source": [
        "Let's inspect the various aspects of our dataframe"
      ]
    },
    {
      "cell_type": "code",
      "execution_count": null,
      "metadata": {
        "scrolled": true,
        "id": "Zrm3yyB1OsH0",
        "outputId": "c93fcacb-89f0-4162-e469-694038866000"
      },
      "outputs": [
        {
          "data": {
            "text/plain": [
              "(200, 4)"
            ]
          },
          "execution_count": 4,
          "metadata": {},
          "output_type": "execute_result"
        }
      ],
      "source": [
        "advertising.shape"
      ]
    },
    {
      "cell_type": "code",
      "execution_count": null,
      "metadata": {
        "id": "s7txBac2OsH0",
        "outputId": "35587151-383a-45f1-8d9a-c62b442f0a8a"
      },
      "outputs": [
        {
          "name": "stdout",
          "output_type": "stream",
          "text": [
            "<class 'pandas.core.frame.DataFrame'>\n",
            "RangeIndex: 200 entries, 0 to 199\n",
            "Data columns (total 4 columns):\n",
            "TV           200 non-null float64\n",
            "Radio        200 non-null float64\n",
            "Newspaper    200 non-null float64\n",
            "Sales        200 non-null float64\n",
            "dtypes: float64(4)\n",
            "memory usage: 6.3 KB\n"
          ]
        }
      ],
      "source": [
        "advertising.info()"
      ]
    },
    {
      "cell_type": "code",
      "execution_count": null,
      "metadata": {
        "id": "aIJXFS3cOsH1",
        "outputId": "94639bb6-cd82-4ed4-95e4-c7689a8534aa"
      },
      "outputs": [
        {
          "data": {
            "text/html": [
              "<div>\n",
              "<style scoped>\n",
              "    .dataframe tbody tr th:only-of-type {\n",
              "        vertical-align: middle;\n",
              "    }\n",
              "\n",
              "    .dataframe tbody tr th {\n",
              "        vertical-align: top;\n",
              "    }\n",
              "\n",
              "    .dataframe thead th {\n",
              "        text-align: right;\n",
              "    }\n",
              "</style>\n",
              "<table border=\"1\" class=\"dataframe\">\n",
              "  <thead>\n",
              "    <tr style=\"text-align: right;\">\n",
              "      <th></th>\n",
              "      <th>TV</th>\n",
              "      <th>Radio</th>\n",
              "      <th>Newspaper</th>\n",
              "      <th>Sales</th>\n",
              "    </tr>\n",
              "  </thead>\n",
              "  <tbody>\n",
              "    <tr>\n",
              "      <th>count</th>\n",
              "      <td>200.000000</td>\n",
              "      <td>200.000000</td>\n",
              "      <td>200.000000</td>\n",
              "      <td>200.000000</td>\n",
              "    </tr>\n",
              "    <tr>\n",
              "      <th>mean</th>\n",
              "      <td>147.042500</td>\n",
              "      <td>23.264000</td>\n",
              "      <td>30.554000</td>\n",
              "      <td>15.130500</td>\n",
              "    </tr>\n",
              "    <tr>\n",
              "      <th>std</th>\n",
              "      <td>85.854236</td>\n",
              "      <td>14.846809</td>\n",
              "      <td>21.778621</td>\n",
              "      <td>5.283892</td>\n",
              "    </tr>\n",
              "    <tr>\n",
              "      <th>min</th>\n",
              "      <td>0.700000</td>\n",
              "      <td>0.000000</td>\n",
              "      <td>0.300000</td>\n",
              "      <td>1.600000</td>\n",
              "    </tr>\n",
              "    <tr>\n",
              "      <th>25%</th>\n",
              "      <td>74.375000</td>\n",
              "      <td>9.975000</td>\n",
              "      <td>12.750000</td>\n",
              "      <td>11.000000</td>\n",
              "    </tr>\n",
              "    <tr>\n",
              "      <th>50%</th>\n",
              "      <td>149.750000</td>\n",
              "      <td>22.900000</td>\n",
              "      <td>25.750000</td>\n",
              "      <td>16.000000</td>\n",
              "    </tr>\n",
              "    <tr>\n",
              "      <th>75%</th>\n",
              "      <td>218.825000</td>\n",
              "      <td>36.525000</td>\n",
              "      <td>45.100000</td>\n",
              "      <td>19.050000</td>\n",
              "    </tr>\n",
              "    <tr>\n",
              "      <th>max</th>\n",
              "      <td>296.400000</td>\n",
              "      <td>49.600000</td>\n",
              "      <td>114.000000</td>\n",
              "      <td>27.000000</td>\n",
              "    </tr>\n",
              "  </tbody>\n",
              "</table>\n",
              "</div>"
            ],
            "text/plain": [
              "               TV       Radio   Newspaper       Sales\n",
              "count  200.000000  200.000000  200.000000  200.000000\n",
              "mean   147.042500   23.264000   30.554000   15.130500\n",
              "std     85.854236   14.846809   21.778621    5.283892\n",
              "min      0.700000    0.000000    0.300000    1.600000\n",
              "25%     74.375000    9.975000   12.750000   11.000000\n",
              "50%    149.750000   22.900000   25.750000   16.000000\n",
              "75%    218.825000   36.525000   45.100000   19.050000\n",
              "max    296.400000   49.600000  114.000000   27.000000"
            ]
          },
          "execution_count": 6,
          "metadata": {},
          "output_type": "execute_result"
        }
      ],
      "source": [
        "advertising.describe()"
      ]
    },
    {
      "cell_type": "markdown",
      "metadata": {
        "id": "jcE6JyPaOsH1"
      },
      "source": [
        "## **Step 1.1: Visualising the Data**\n",
        "\n",
        "Let's now visualise our data using seaborn. We'll first make a pairplot of all the variables present to visualise which variables are most correlated to `Sales`."
      ]
    },
    {
      "cell_type": "code",
      "execution_count": 5,
      "metadata": {
        "id": "3_d3-GGMOsH2"
      },
      "outputs": [],
      "source": [
        "import matplotlib.pyplot as plt\n",
        "import seaborn as sns"
      ]
    },
    {
      "cell_type": "code",
      "source": [
        "sns.regplot(data=advertising, x ='Radio', y='Sales')"
      ],
      "metadata": {
        "colab": {
          "base_uri": "https://localhost:8080/",
          "height": 467
        },
        "id": "kWj3N8dWPfMs",
        "outputId": "3df760f2-5e6b-43ff-b8d2-2e8211765324"
      },
      "execution_count": 6,
      "outputs": [
        {
          "output_type": "execute_result",
          "data": {
            "text/plain": [
              "<Axes: xlabel='Radio', ylabel='Sales'>"
            ]
          },
          "metadata": {},
          "execution_count": 6
        },
        {
          "output_type": "display_data",
          "data": {
            "text/plain": [
              "<Figure size 640x480 with 1 Axes>"
            ],
            "image/png": "[encoded data removed]"
          },
          "metadata": {}
        }
      ]
    },
    {
      "cell_type": "code",
      "execution_count": null,
      "metadata": {
        "id": "HBRT2FcuOsH2",
        "outputId": "3a3848ee-c5ed-427a-a420-40581b56a5f7"
      },
      "outputs": [
        {
          "data": {
            "image/png": "[encoded data removed]",
            "text/plain": [
              "<matplotlib.figure.Figure at 0x245652a7fd0>"
            ]
          },
          "metadata": {},
          "output_type": "display_data"
        }
      ],
      "source": [
        "sns.pairplot(advertising, x_vars=['TV', 'Newspaper', 'Radio'], y_vars='Sales',size=4, aspect=1, kind='scatter')\n",
        "plt.show()"
      ]
    },
    {
      "cell_type": "code",
      "execution_count": null,
      "metadata": {
        "id": "5xtkHxRZOsH3",
        "outputId": "4b166de7-3446-40d9-e325-1eb8bd0ed1a1"
      },
      "outputs": [
        {
          "data": {
            "image/png": "[encoded data removed]",
            "text/plain": [
              "<matplotlib.figure.Figure at 0x24568ca9400>"
            ]
          },
          "metadata": {},
          "output_type": "display_data"
        }
      ],
      "source": [
        "sns.heatmap(advertising.corr(), cmap=\"YlGnBu\", annot = True)\n",
        "plt.show()"
      ]
    },
    {
      "cell_type": "markdown",
      "metadata": {
        "id": "d9FeC4jmOsH4"
      },
      "source": [
        "As is visible from the pairplot and the heatmap, the variable `TV` seems to be most correlated with `Sales`. So let's go ahead and perform simple linear regression using `TV` as our feature variable."
      ]
    },
    {
      "cell_type": "markdown",
      "metadata": {
        "id": "i_9_2hEiOsH4"
      },
      "source": [
        "---\n",
        "# **Step 2: Performing Simple Linear Regression**\n",
        "\n",
        "Equation of linear regression<br>\n",
        "$y = c + m_1x_1 + m_2x_2 + ... + m_nx_n$\n",
        "\n",
        "-  $y$ is the response\n",
        "-  $c$ is the intercept\n",
        "-  $m_1$ is the coefficient for the first feature\n",
        "-  $m_n$ is the coefficient for the nth feature<br>\n",
        "\n",
        "In our case:\n",
        "\n",
        "$y = c + m_1 \\times TV$\n",
        "\n",
        "The $m$ values are called the model **coefficients** or **model parameters**.\n"
      ]
    },
    {
      "cell_type": "markdown",
      "source": [
        "### **Steps:**\n",
        "- Create X and y\n",
        "- Create Train & Test Sets (70-30, 80-20)\n",
        "- Train your Model on the training set (i.e learn the coefficients)\n",
        "- Evaluate the model (training set, test set)"
      ],
      "metadata": {
        "id": "gVKJPbkbTTPN"
      }
    },
    {
      "cell_type": "markdown",
      "metadata": {
        "id": "lL4eC-uhOsH4"
      },
      "source": [
        "### Generic Steps in model building using `statsmodels`\n",
        "\n",
        "We first assign the feature variable, `TV`, in this case, to the variable `X` and the response variable, `Sales`, to the variable `y`."
      ]
    },
    {
      "cell_type": "code",
      "execution_count": 7,
      "metadata": {
        "id": "kCiWED4uOsH4"
      },
      "outputs": [],
      "source": [
        "X = advertising['TV']\n",
        "y = advertising['Sales']"
      ]
    },
    {
      "cell_type": "markdown",
      "metadata": {
        "id": "ErE1mC_sOsH5"
      },
      "source": [
        "#### Train-Test Split\n",
        "\n",
        "You now need to split our variable into training and testing sets. You'll perform this by importing `train_test_split` from the `sklearn.model_selection` library. It is usually a good practice to keep 70% of the data in your train dataset and the rest 30% in your test dataset"
      ]
    },
    {
      "cell_type": "code",
      "execution_count": 8,
      "metadata": {
        "id": "LLfnTMWpOsH5"
      },
      "outputs": [],
      "source": [
        "from sklearn.model_selection import train_test_split\n",
        "X_train, X_test, y_train, y_test = train_test_split(X, y, train_size = 0.7, test_size = 0.3, random_state = 100)"
      ]
    },
    {
      "cell_type": "code",
      "execution_count": 14,
      "metadata": {
        "colab": {
          "base_uri": "https://localhost:8080/"
        },
        "id": "ZCzuqYhGOsH6",
        "outputId": "244d1e87-252e-4952-b3ee-351c231be213"
      },
      "outputs": [
        {
          "output_type": "execute_result",
          "data": {
            "text/plain": [
              "(60,)"
            ]
          },
          "metadata": {},
          "execution_count": 14
        }
      ],
      "source": [
        "# Let's now take a look at the train dataset\n",
        "\n",
        "X_test.shape"
      ]
    },
    {
      "cell_type": "code",
      "execution_count": 13,
      "metadata": {
        "colab": {
          "base_uri": "https://localhost:8080/"
        },
        "id": "-Fc-y9jcOsH8",
        "outputId": "8aaae009-6ace-4d09-d6df-9c5c3df7f7a7"
      },
      "outputs": [
        {
          "output_type": "execute_result",
          "data": {
            "text/plain": [
              "(60,)"
            ]
          },
          "metadata": {},
          "execution_count": 13
        }
      ],
      "source": [
        "y_test.shape"
      ]
    },
    {
      "cell_type": "markdown",
      "metadata": {
        "id": "MNJEXmADOsH8"
      },
      "source": [
        "#### Building a Linear Model\n",
        "\n",
        "You first need to import the `statsmodel.api` library using which you'll perform the linear regression."
      ]
    },
    {
      "cell_type": "code",
      "execution_count": 15,
      "metadata": {
        "id": "ly4Y6lFXOsH9"
      },
      "outputs": [],
      "source": [
        "import statsmodels.api as sm"
      ]
    },
    {
      "cell_type": "markdown",
      "metadata": {
        "id": "kthRYvs5OsH9"
      },
      "source": [
        "By default, the `statsmodels` library fits a line on the dataset which passes through the origin. But in order to have an intercept, you need to manually use the `add_constant` attribute of `statsmodels`. And once you've added the constant to your `X_train` dataset, you can go ahead and fit a regression line using the `OLS` (Ordinary Least Squares) attribute of `statsmodels` as shown below"
      ]
    },
    {
      "cell_type": "code",
      "execution_count": 21,
      "metadata": {
        "id": "marax0A8OsH9"
      },
      "outputs": [],
      "source": [
        "# Add a constant to get an intercept\n",
        "X_train_sm = sm.add_constant(X_train)\n",
        "\n",
        "# Fit the regression line using 'OLS'\n",
        "lr = sm.OLS(y_train, X_train_sm)\n",
        "lr_model = lr.fit()"
      ]
    },
    {
      "cell_type": "code",
      "execution_count": 23,
      "metadata": {
        "colab": {
          "base_uri": "https://localhost:8080/"
        },
        "id": "oP9LsInGOsH9",
        "outputId": "d67bfa01-8dc1-4a38-f703-35c92256a34d"
      },
      "outputs": [
        {
          "output_type": "execute_result",
          "data": {
            "text/plain": [
              "const    6.948683\n",
              "TV       0.054546\n",
              "dtype: float64"
            ]
          },
          "metadata": {},
          "execution_count": 23
        }
      ],
      "source": [
        "# Print the parameters, i.e. the intercept and the slope of the regression line fitted\n",
        "lr_model.params"
      ]
    },
    {
      "cell_type": "markdown",
      "source": [
        "**That means the predicted model looks like:**\n",
        "\n",
        " **$Sales = 6.94 + 0.055 \\times TV$**"
      ],
      "metadata": {
        "id": "KOqrrtJGWG15"
      }
    },
    {
      "cell_type": "code",
      "execution_count": 22,
      "metadata": {
        "colab": {
          "base_uri": "https://localhost:8080/"
        },
        "id": "oe6xivgJOsH9",
        "outputId": "43b4d088-fbb9-4bac-8673-56b196fc4e93"
      },
      "outputs": [
        {
          "output_type": "stream",
          "name": "stdout",
          "text": [
            "                            OLS Regression Results                            \n",
            "==============================================================================\n",
            "Dep. Variable:                  Sales   R-squared:                       0.816\n",
            "Model:                            OLS   Adj. R-squared:                  0.814\n",
            "Method:                 Least Squares   F-statistic:                     611.2\n",
            "Date:                Wed, 18 Oct 2023   Prob (F-statistic):           1.52e-52\n",
            "Time:                        10:34:01   Log-Likelihood:                -321.12\n",
            "No. Observations:                 140   AIC:                             646.2\n",
            "Df Residuals:                     138   BIC:                             652.1\n",
            "Df Model:                           1                                         \n",
            "Covariance Type:            nonrobust                                         \n",
            "==============================================================================\n",
            "                 coef    std err          t      P>|t|      [0.025      0.975]\n",
            "------------------------------------------------------------------------------\n",
            "const          6.9487      0.385     18.068      0.000       6.188       7.709\n",
            "TV             0.0545      0.002     24.722      0.000       0.050       0.059\n",
            "==============================================================================\n",
            "Omnibus:                        0.027   Durbin-Watson:                   2.196\n",
            "Prob(Omnibus):                  0.987   Jarque-Bera (JB):                0.150\n",
            "Skew:                          -0.006   Prob(JB):                        0.928\n",
            "Kurtosis:                       2.840   Cond. No.                         328.\n",
            "==============================================================================\n",
            "\n",
            "Notes:\n",
            "[1] Standard Errors assume that the covariance matrix of the errors is correctly specified.\n"
          ]
        }
      ],
      "source": [
        "# Performing a summary operation lists out all the different parameters of the regression line fitted\n",
        "print(lr_model.summary())"
      ]
    },
    {
      "cell_type": "markdown",
      "metadata": {
        "id": "6ZtNMcmOOsH9"
      },
      "source": [
        "####  Looking at some key statistics from the summary"
      ]
    },
    {
      "cell_type": "markdown",
      "metadata": {
        "id": "X2UoD6N5OsH9"
      },
      "source": [
        "The values we are concerned with are -\n",
        "1. The coefficients and significance (p-values)\n",
        "2. R-squared\n",
        "3. F statistic and its significance"
      ]
    },
    {
      "cell_type": "markdown",
      "metadata": {
        "id": "HRiji6rfOsH9"
      },
      "source": [
        "##### **1) The coefficient for TV is 0.054, with a very low p value**\n",
        "The coefficient is statistically significant. So the association is not purely by chance."
      ]
    },
    {
      "cell_type": "markdown",
      "metadata": {
        "id": "Z4G_v4a4OsH9"
      },
      "source": [
        "##### **2) R - squared is 0.816**\n",
        "Meaning that 81.6% of the variance in `Sales` is explained by `TV`\n",
        "\n",
        "This is a decent R-squared value."
      ]
    },
    {
      "cell_type": "markdown",
      "metadata": {
        "id": "01cMNUQvOsH9"
      },
      "source": [
        "##### **3) F statistic has a very low p value (practically low)**\n",
        "Meaning that the model fit is statistically significant, and the explained variance isn't purely by chance."
      ]
    },
    {
      "cell_type": "markdown",
      "metadata": {
        "id": "pje7z08wOsH9"
      },
      "source": [
        "---\n",
        "The fit is significant. Let's visualize how well the model fit the data.\n",
        "\n",
        "From the parameters that we get, our linear regression equation becomes:\n",
        "\n",
        "$ Sales = 6.948 + 0.054 \\times TV $"
      ]
    },
    {
      "cell_type": "code",
      "execution_count": 26,
      "metadata": {
        "scrolled": true,
        "colab": {
          "base_uri": "https://localhost:8080/",
          "height": 430
        },
        "id": "amCNMncNOsH9",
        "outputId": "bc67e01e-59eb-4597-c466-a4d3055f0bc3"
      },
      "outputs": [
        {
          "output_type": "display_data",
          "data": {
            "text/plain": [
              "<Figure size 640x480 with 1 Axes>"
            ],
            "image/png": "[encoded data removed]"
          },
          "metadata": {}
        }
      ],
      "source": [
        "plt.scatter(X_train, y_train)\n",
        "\n",
        "y_train_pred = lr_model.predict(X_train_sm)   # Predicted values using model\n",
        "\n",
        "plt.plot(X_train, y_train_pred, 'r')\n",
        "plt.show()"
      ]
    },
    {
      "cell_type": "markdown",
      "metadata": {
        "id": "OWzkfE0tOsH-"
      },
      "source": [
        "---\n",
        "# **Step 3: Residual analysis**\n",
        "To validate assumptions of the model, and hence the reliability for inference"
      ]
    },
    {
      "cell_type": "markdown",
      "metadata": {
        "id": "b3ZjLmAFOsH-"
      },
      "source": [
        "#### Distribution of the error terms\n",
        "We need to check if the error terms are also normally distributed (which is infact, one of the major assumptions of linear regression), let us plot the histogram of the error terms and see what it looks like."
      ]
    },
    {
      "cell_type": "code",
      "execution_count": 25,
      "metadata": {
        "id": "7IVb9nQnOsH-"
      },
      "outputs": [],
      "source": [
        "# error = y_train - y_train_predicted\n",
        "\n",
        "res = y_train - y_train_pred"
      ]
    },
    {
      "cell_type": "code",
      "execution_count": 32,
      "metadata": {
        "scrolled": true,
        "colab": {
          "base_uri": "https://localhost:8080/",
          "height": 701
        },
        "id": "U0lvCcCKOsH-",
        "outputId": "20bace35-3313-4fa2-b004-fa90e435ebde"
      },
      "outputs": [
        {
          "output_type": "stream",
          "name": "stderr",
          "text": [
            "<ipython-input-32-3ee24e2611c9>:2: UserWarning: \n",
            "\n",
            "`distplot` is a deprecated function and will be removed in seaborn v0.14.0.\n",
            "\n",
            "Please adapt your code to use either `displot` (a figure-level function with\n",
            "similar flexibility) or `histplot` (an axes-level function for histograms).\n",
            "\n",
            "For a guide to updating your code to use the new functions, please see\n",
            "https://gist.github.com/mwaskom/de44147ed2974457ad6372750bbe5751\n",
            "\n",
            "  sns.distplot(res)\n"
          ]
        },
        {
          "output_type": "display_data",
          "data": {
            "text/plain": [
              "<Figure size 640x480 with 1 Axes>"
            ],
            "image/png": "[encoded data removed]"
          },
          "metadata": {}
        }
      ],
      "source": [
        "fig = plt.figure()\n",
        "sns.distplot(res)\n",
        "fig.suptitle('Error Terms', fontsize = 15)                  # Plot heading\n",
        "plt.xlabel('y_train - y_train_pred')                        # X-label\n",
        "plt.show()"
      ]
    },
    {
      "cell_type": "markdown",
      "metadata": {
        "id": "D8f2BrmDOsH-"
      },
      "source": [
        " ⚓ **The residuals are following the normally distributed with a mean '0'. All good!**"
      ]
    },
    {
      "cell_type": "markdown",
      "metadata": {
        "id": "BXUVnJKAOsH-"
      },
      "source": [
        "#### Looking for patterns in the residuals"
      ]
    },
    {
      "cell_type": "code",
      "execution_count": 33,
      "metadata": {
        "colab": {
          "base_uri": "https://localhost:8080/",
          "height": 430
        },
        "id": "ChbQeneuOsH_",
        "outputId": "b370d8e0-826c-49f6-c268-13ea799c295f"
      },
      "outputs": [
        {
          "output_type": "display_data",
          "data": {
            "text/plain": [
              "<Figure size 640x480 with 1 Axes>"
            ],
            "image/png": "[encoded data removed]"
          },
          "metadata": {}
        }
      ],
      "source": [
        "plt.scatter(X_train,res)\n",
        "plt.show()"
      ]
    },
    {
      "cell_type": "markdown",
      "metadata": {
        "id": "HDRV7NNBOsH_"
      },
      "source": [
        "**-->** No, patterns observed.....Hence, We are confident that the model fit isn't by chance, and has decent predictive power. The normality of residual terms allows some inference on the coefficients.\n",
        "\n",
        "Although, the variance of residuals increasing with X indicates that there is significant variation that this model is unable to explain."
      ]
    },
    {
      "cell_type": "markdown",
      "metadata": {
        "id": "Rvyh_cviOsH_"
      },
      "source": [
        "As you can see, the regression line is a pretty good fit to the data"
      ]
    },
    {
      "cell_type": "markdown",
      "metadata": {
        "id": "aMi4qcdcOsH_"
      },
      "source": [
        "# **Step 4: Predictions & Evaluations on the Test Set**\n",
        "\n",
        "Now that you have fitted a regression line on your train dataset, it's time to make some predictions on the test data. For this, you first need to add a constant to the `X_test` data like you did for `X_train` and then you can simply go on and predict the y values corresponding to `X_test` using the `predict` attribute of the fitted regression line."
      ]
    },
    {
      "cell_type": "code",
      "execution_count": 34,
      "metadata": {
        "id": "VJHECT61OsH_"
      },
      "outputs": [],
      "source": [
        "# Add a constant to X_test\n",
        "X_test_sm = sm.add_constant(X_test)\n",
        "\n",
        "# Predict the y values corresponding to X_test_sm\n",
        "y_pred = lr_model.predict(X_test_sm)"
      ]
    },
    {
      "cell_type": "code",
      "execution_count": 36,
      "metadata": {
        "colab": {
          "base_uri": "https://localhost:8080/"
        },
        "id": "5oivSpvOOsH_",
        "outputId": "713c4fa3-5ad9-4820-d83e-4f34dfc7da9a"
      },
      "outputs": [
        {
          "output_type": "execute_result",
          "data": {
            "text/plain": [
              "126     7.374140\n",
              "104    19.941482\n",
              "99     14.323269\n",
              "92     18.823294\n",
              "111    20.132392\n",
              "dtype: float64"
            ]
          },
          "metadata": {},
          "execution_count": 36
        }
      ],
      "source": [
        "y_pred.head()"
      ]
    },
    {
      "cell_type": "code",
      "execution_count": 55,
      "metadata": {
        "id": "qDyvVDdZOsH_"
      },
      "outputs": [],
      "source": [
        "from sklearn.metrics import mean_squared_error\n",
        "from sklearn.metrics import r2_score"
      ]
    },
    {
      "cell_type": "markdown",
      "metadata": {
        "id": "TAtzXezqOsH_"
      },
      "source": [
        "##### Looking at the RMSE"
      ]
    },
    {
      "cell_type": "code",
      "execution_count": 56,
      "metadata": {
        "colab": {
          "base_uri": "https://localhost:8080/"
        },
        "id": "lso73U6yOsH_",
        "outputId": "8bcd557b-35b3-4faa-adf4-3e253555db0b"
      },
      "outputs": [
        {
          "output_type": "execute_result",
          "data": {
            "text/plain": [
              "2.019296008966232"
            ]
          },
          "metadata": {},
          "execution_count": 56
        }
      ],
      "source": [
        "#Returns the mean squared error; we'll take a square root\n",
        "np.sqrt(mean_squared_error(y_test, y_pred))"
      ]
    },
    {
      "cell_type": "markdown",
      "metadata": {
        "id": "gBVrsjnVOsH_"
      },
      "source": [
        "###### Checking the R-squared on the test set"
      ]
    },
    {
      "cell_type": "code",
      "execution_count": 57,
      "metadata": {
        "colab": {
          "base_uri": "https://localhost:8080/"
        },
        "id": "WJvIL02aOsIA",
        "outputId": "fbb5b2e2-782b-4028-91d5-e12eee09e3e3"
      },
      "outputs": [
        {
          "output_type": "execute_result",
          "data": {
            "text/plain": [
              "0.792103160124566"
            ]
          },
          "metadata": {},
          "execution_count": 57
        }
      ],
      "source": [
        "r_squared = r2_score(y_test, y_pred)\n",
        "r_squared"
      ]
    },
    {
      "cell_type": "markdown",
      "source": [
        "The R_sqaure for test set within 5% of that for training set seems promising.\n",
        "\n",
        "$R^2$ for Train set was 0.826"
      ],
      "metadata": {
        "id": "rue_LR5tiM4M"
      }
    },
    {
      "cell_type": "markdown",
      "metadata": {
        "id": "jzBFQQ3DOsIA"
      },
      "source": [
        "##### Visualizing the fit on the test set"
      ]
    },
    {
      "cell_type": "code",
      "execution_count": 58,
      "metadata": {
        "scrolled": true,
        "colab": {
          "base_uri": "https://localhost:8080/",
          "height": 430
        },
        "id": "c2OAXFUuOsIA",
        "outputId": "550e3f4c-2365-417d-e821-5f414f675307"
      },
      "outputs": [
        {
          "output_type": "display_data",
          "data": {
            "text/plain": [
              "<Figure size 640x480 with 1 Axes>"
            ],
            "image/png": "[encoded data removed]"
          },
          "metadata": {}
        }
      ],
      "source": [
        "plt.scatter(X_test, y_test)\n",
        "plt.plot(X_test, 6.948 + 0.054 * X_test, 'r')\n",
        "plt.show()"
      ]
    },
    {
      "cell_type": "markdown",
      "metadata": {
        "id": "wdPsGKNoOsIA"
      },
      "source": [
        "---\n",
        "---\n",
        "---\n",
        "# **Linear Regression using `linear_model` in `sklearn`**\n",
        "\n",
        "Apart from `statsmodels`, there is another package namely `sklearn` that can be used to perform linear regression. We will use the `linear_model` library from `sklearn` to build the model. Since, we hae already performed a train-test split, we don't need to do it again.\n",
        "\n",
        "There's one small step that we need to add, though. When there's only a single feature, we need to add an additional column in order for the linear regression fit to be performed successfully."
      ]
    },
    {
      "cell_type": "markdown",
      "source": [
        "-->  **Steps in SKLearn model building**\n",
        "\n",
        "Step 1: Create an object of Linear Regression\n",
        "\n",
        "Step 2: Fit the model\n",
        "\n",
        "Step 3: Check params, make predictions\n",
        "\n",
        "Step 4: Evaluate (r2, etc.)"
      ],
      "metadata": {
        "id": "qn8L8CkTj64J"
      }
    },
    {
      "cell_type": "code",
      "execution_count": 42,
      "metadata": {
        "id": "mQR6tG1IOsIA"
      },
      "outputs": [],
      "source": [
        "from sklearn.model_selection import train_test_split\n",
        "X_train, X_test, y_train, y_test = train_test_split(X, y, train_size = 0.7, test_size = 0.3, random_state = 100)"
      ]
    },
    {
      "cell_type": "code",
      "execution_count": 43,
      "metadata": {
        "colab": {
          "base_uri": "https://localhost:8080/"
        },
        "id": "Y8MwFiCPOsIB",
        "outputId": "41be0178-4d0e-4846-c859-d7cbced4e3e3"
      },
      "outputs": [
        {
          "output_type": "execute_result",
          "data": {
            "text/plain": [
              "(140,)"
            ]
          },
          "metadata": {},
          "execution_count": 43
        }
      ],
      "source": [
        "X_train.shape"
      ]
    },
    {
      "cell_type": "code",
      "execution_count": 44,
      "metadata": {
        "colab": {
          "base_uri": "https://localhost:8080/"
        },
        "id": "bLpT9uWbOsIB",
        "outputId": "22735b2a-2808-445d-fb52-039756c07feb"
      },
      "outputs": [
        {
          "output_type": "stream",
          "name": "stdout",
          "text": [
            "(140,)\n",
            "(140,)\n",
            "(60,)\n",
            "(60,)\n"
          ]
        }
      ],
      "source": [
        "print(X_train.shape)\n",
        "print(y_train.shape)\n",
        "print(X_test.shape)\n",
        "print(y_test.shape)"
      ]
    },
    {
      "cell_type": "code",
      "source": [
        "# Reshape to (n,1)\n",
        "\n",
        "X_test_lm = X_test.values.reshape(-1,1)\n",
        "X_train_lm = X_train.values.reshape(-1,1)\n",
        "y_test_lm = y_test.values.reshape(-1,1)\n",
        "y_train_lm = y_train.values.reshape(-1,1)\n",
        "\n",
        "print(X_train_lm.shape)\n",
        "print(y_train_lm.shape)\n",
        "print(X_test_lm.shape)\n",
        "print(y_test_lm.shape)"
      ],
      "metadata": {
        "colab": {
          "base_uri": "https://localhost:8080/"
        },
        "id": "osX0ZMWdlBaZ",
        "outputId": "2284baf4-fdeb-4a54-c151-02f826be6b8e"
      },
      "execution_count": 49,
      "outputs": [
        {
          "output_type": "stream",
          "name": "stdout",
          "text": [
            "(140, 1)\n",
            "(140, 1)\n",
            "(60, 1)\n",
            "(60, 1)\n"
          ]
        }
      ]
    },
    {
      "cell_type": "markdown",
      "source": [
        "### Step 2: Create & Fit the Model"
      ],
      "metadata": {
        "id": "m3rGDPCWnBEP"
      }
    },
    {
      "cell_type": "code",
      "execution_count": 50,
      "metadata": {
        "colab": {
          "base_uri": "https://localhost:8080/",
          "height": 75
        },
        "id": "RxkmN2ESOsIB",
        "outputId": "6d6f1cb5-ee38-4e3e-e747-bcdeadbeea5c"
      },
      "outputs": [
        {
          "output_type": "execute_result",
          "data": {
            "text/plain": [
              "LinearRegression()"
            ],
            "text/html": [
              "<style>#sk-container-id-1 {color: black;background-color: white;}#sk-container-id-1 pre{padding: 0;}#sk-container-id-1 div.sk-toggleable {background-color: white;}#sk-container-id-1 label.sk-toggleable__label {cursor: pointer;display: block;width: 100%;margin-bottom: 0;padding: 0.3em;box-sizing: border-box;text-align: center;}#sk-container-id-1 label.sk-toggleable__label-arrow:before {content: \"▸\";float: left;margin-right: 0.25em;color: #696969;}#sk-container-id-1 label.sk-toggleable__label-arrow:hover:before {color: black;}#sk-container-id-1 div.sk-estimator:hover label.sk-toggleable__label-arrow:before {color: black;}#sk-container-id-1 div.sk-toggleable__content {max-height: 0;max-width: 0;overflow: hidden;text-align: left;background-color: #f0f8ff;}#sk-container-id-1 div.sk-toggleable__content pre {margin: 0.2em;color: black;border-radius: 0.25em;background-color: #f0f8ff;}#sk-container-id-1 input.sk-toggleable__control:checked~div.sk-toggleable__content {max-height: 200px;max-width: 100%;overflow: auto;}#sk-container-id-1 input.sk-toggleable__control:checked~label.sk-toggleable__label-arrow:before {content: \"▾\";}#sk-container-id-1 div.sk-estimator input.sk-toggleable__control:checked~label.sk-toggleable__label {background-color: #d4ebff;}#sk-container-id-1 div.sk-label input.sk-toggleable__control:checked~label.sk-toggleable__label {background-color: #d4ebff;}#sk-container-id-1 input.sk-hidden--visually {border: 0;clip: rect(1px 1px 1px 1px);clip: rect(1px, 1px, 1px, 1px);height: 1px;margin: -1px;overflow: hidden;padding: 0;position: absolute;width: 1px;}#sk-container-id-1 div.sk-estimator {font-family: monospace;background-color: #f0f8ff;border: 1px dotted black;border-radius: 0.25em;box-sizing: border-box;margin-bottom: 0.5em;}#sk-container-id-1 div.sk-estimator:hover {background-color: #d4ebff;}#sk-container-id-1 div.sk-parallel-item::after {content: \"\";width: 100%;border-bottom: 1px solid gray;flex-grow: 1;}#sk-container-id-1 div.sk-label:hover label.sk-toggleable__label {background-color: #d4ebff;}#sk-container-id-1 div.sk-serial::before {content: \"\";position: absolute;border-left: 1px solid gray;box-sizing: border-box;top: 0;bottom: 0;left: 50%;z-index: 0;}#sk-container-id-1 div.sk-serial {display: flex;flex-direction: column;align-items: center;background-color: white;padding-right: 0.2em;padding-left: 0.2em;position: relative;}#sk-container-id-1 div.sk-item {position: relative;z-index: 1;}#sk-container-id-1 div.sk-parallel {display: flex;align-items: stretch;justify-content: center;background-color: white;position: relative;}#sk-container-id-1 div.sk-item::before, #sk-container-id-1 div.sk-parallel-item::before {content: \"\";position: absolute;border-left: 1px solid gray;box-sizing: border-box;top: 0;bottom: 0;left: 50%;z-index: -1;}#sk-container-id-1 div.sk-parallel-item {display: flex;flex-direction: column;z-index: 1;position: relative;background-color: white;}#sk-container-id-1 div.sk-parallel-item:first-child::after {align-self: flex-end;width: 50%;}#sk-container-id-1 div.sk-parallel-item:last-child::after {align-self: flex-start;width: 50%;}#sk-container-id-1 div.sk-parallel-item:only-child::after {width: 0;}#sk-container-id-1 div.sk-dashed-wrapped {border: 1px dashed gray;margin: 0 0.4em 0.5em 0.4em;box-sizing: border-box;padding-bottom: 0.4em;background-color: white;}#sk-container-id-1 div.sk-label label {font-family: monospace;font-weight: bold;display: inline-block;line-height: 1.2em;}#sk-container-id-1 div.sk-label-container {text-align: center;}#sk-container-id-1 div.sk-container {/* jupyter's `normalize.less` sets `[hidden] { display: none; }` but bootstrap.min.css set `[hidden] { display: none !important; }` so we also need the `!important` here to be able to override the default hidden behavior on the sphinx rendered scikit-learn.org. See: https://github.com/scikit-learn/scikit-learn/issues/21755 */display: inline-block !important;position: relative;}#sk-container-id-1 div.sk-text-repr-fallback {display: none;}</style><div id=\"sk-container-id-1\" class=\"sk-top-container\"><div class=\"sk-text-repr-fallback\"><pre>LinearRegression()</pre><b>In a Jupyter environment, please rerun this cell to show the HTML representation or trust the notebook. <br />On GitHub, the HTML representation is unable to render, please try loading this page with nbviewer.org.</b></div><div class=\"sk-container\" hidden><div class=\"sk-item\"><div class=\"sk-estimator sk-toggleable\"><input class=\"sk-toggleable__control sk-hidden--visually\" id=\"sk-estimator-id-1\" type=\"checkbox\" checked><label for=\"sk-estimator-id-1\" class=\"sk-toggleable__label sk-toggleable__label-arrow\">LinearRegression</label><div class=\"sk-toggleable__content\"><pre>LinearRegression()</pre></div></div></div></div></div>"
            ]
          },
          "metadata": {},
          "execution_count": 50
        }
      ],
      "source": [
        "from sklearn.linear_model import LinearRegression\n",
        "\n",
        "# Representing LinearRegression as lm (Creating LinearRegression Object)\n",
        "lm = LinearRegression()\n",
        "\n",
        "# Fit the model using m.fit()\n",
        "lm.fit(X_train_lm, y_train_lm)"
      ]
    },
    {
      "cell_type": "code",
      "execution_count": 52,
      "metadata": {
        "colab": {
          "base_uri": "https://localhost:8080/"
        },
        "id": "38fqRngyOsIB",
        "outputId": "0e7837f2-c231-4230-84af-e2a62404e14a"
      },
      "outputs": [
        {
          "output_type": "stream",
          "name": "stdout",
          "text": [
            "[6.9486832]\n",
            "[[0.05454575]]\n"
          ]
        }
      ],
      "source": [
        "print(lm.intercept_)   # c coefficient\n",
        "print(lm.coef_)        # m coefficient"
      ]
    },
    {
      "cell_type": "markdown",
      "metadata": {
        "id": "2FGRh4_7OsIB"
      },
      "source": [
        "The equation we get is the same as what we got before!\n",
        "\n",
        "$ Sales = 6.948 + 0.054* TV $"
      ]
    },
    {
      "cell_type": "markdown",
      "metadata": {
        "id": "g4QxEQi0OsIB"
      },
      "source": [
        "Sklearn linear model is useful as it is compatible with a lot of sklearn utilites (cross validation, grid search etc.)"
      ]
    },
    {
      "cell_type": "markdown",
      "source": [
        "### Step 3: Predictions"
      ],
      "metadata": {
        "id": "utZaIFDTm6Ly"
      }
    },
    {
      "cell_type": "code",
      "source": [
        "y_train_pred = lm.predict(X_train_lm)\n",
        "y_test_pred = lm.predict(X_test_lm)"
      ],
      "metadata": {
        "id": "r3sVawpRmpKw"
      },
      "execution_count": 53,
      "outputs": []
    },
    {
      "cell_type": "code",
      "source": [
        "r2_test = r2_score(y_test, y_test_pred)\n",
        "r2_train = r2_score(y_train, y_train_pred)\n",
        "\n",
        "print(r2_test)\n",
        "print(r2_train)\n"
      ],
      "metadata": {
        "colab": {
          "base_uri": "https://localhost:8080/"
        },
        "id": "hRz1VV49m15w",
        "outputId": "187e13d9-595a-468a-8199-d8d4d4c77214"
      },
      "execution_count": 60,
      "outputs": [
        {
          "output_type": "stream",
          "name": "stdout",
          "text": [
            "0.7921031601245662\n",
            "0.8157933136480389\n"
          ]
        }
      ]
    },
    {
      "cell_type": "markdown",
      "metadata": {
        "id": "UT6TudXSOsIC"
      },
      "source": [
        "---\n",
        "## **Addressing some common questions/doubts on Simple Linear Regression**\n",
        "---"
      ]
    },
    {
      "cell_type": "markdown",
      "metadata": {
        "id": "pf_ngsloOsIC"
      },
      "source": [
        "### Q: Why is it called 'R-squared'?"
      ]
    },
    {
      "cell_type": "markdown",
      "metadata": {
        "id": "YoWI2VedOsIC"
      },
      "source": [
        "Based on what we learnt so far, do you see it? Can you answer this?\n",
        "\n",
        "\n",
        "\n",
        "\n",
        "\n",
        ""
      ]
    },
    {
      "cell_type": "markdown",
      "metadata": {
        "id": "m_YeGuFnOsID"
      },
      "source": [
        ".\n",
        "\n",
        ".\n",
        "\n",
        ".\n",
        "\n",
        ".\n",
        "\n",
        "  #### Drumroll...\n",
        "  \n",
        ".\n",
        "\n",
        ".\n",
        "\n",
        ".\n",
        "\n",
        "."
      ]
    },
    {
      "cell_type": "code",
      "execution_count": 63,
      "metadata": {
        "scrolled": true,
        "colab": {
          "base_uri": "https://localhost:8080/"
        },
        "id": "2IQCmJOHOsID",
        "outputId": "5d400032-4247-4cc4-ce29-2ac5c3e96bc6"
      },
      "outputs": [
        {
          "output_type": "stream",
          "name": "stdout",
          "text": [
            "[[1.         0.90321277]\n",
            " [0.90321277 1.        ]]\n"
          ]
        }
      ],
      "source": [
        "corrs = np.corrcoef(X_train, y_train)\n",
        "print(corrs)"
      ]
    },
    {
      "cell_type": "code",
      "execution_count": 64,
      "metadata": {
        "colab": {
          "base_uri": "https://localhost:8080/"
        },
        "id": "Km3P9qUyOsID",
        "outputId": "faa98eae-69e7-4360-ae53-fc023289103b"
      },
      "outputs": [
        {
          "output_type": "execute_result",
          "data": {
            "text/plain": [
              "0.8157933136480384"
            ]
          },
          "metadata": {},
          "execution_count": 64
        }
      ],
      "source": [
        "corrs[0,1] ** 2"
      ]
    },
    {
      "cell_type": "markdown",
      "metadata": {
        "id": "H8lZWksUOsID"
      },
      "source": [
        "Correlation (Pearson) is also called **\"r\"** or **\"Pearson's R\"**"
      ]
    },
    {
      "cell_type": "markdown",
      "metadata": {
        "id": "NnAJteW_OsIE"
      },
      "source": [
        "### Q: What is a good RMSE? Is there some RMSE that I should aim for?"
      ]
    },
    {
      "cell_type": "markdown",
      "metadata": {
        "id": "GOoMT_bKOsIE"
      },
      "source": [
        "<br>\n",
        "\n",
        "<br>\n",
        "\n",
        "You should be able to answer this by now!\n",
        "\n",
        "\n",
        "<br>\n",
        "\n",
        "\n",
        "<br>\n",
        "\n",
        "\n",
        "\n",
        "Look at \"Sharma ji ka beta\"; he could answer this in a moment. How lucky is Sharma ji to have such a smart kid!"
      ]
    },
    {
      "cell_type": "markdown",
      "metadata": {
        "id": "04edASbmOsIF"
      },
      "source": [
        ".\n",
        "\n",
        ".\n",
        "\n",
        ".\n",
        "\n",
        ".\n",
        "\n",
        "  #### Drumroll...\n",
        "  \n",
        ".\n",
        "\n",
        ".\n",
        "\n",
        ".\n",
        "\n",
        "."
      ]
    },
    {
      "cell_type": "markdown",
      "metadata": {
        "id": "yOR6XjAPOsIF"
      },
      "source": [
        "The RMSE:\n",
        " - depends on the units of the Y variables\n",
        " - is NOT a normalized measure\n",
        "\n",
        "While it can't really tell you of the gooodness of the particular model, it can help you compare models.\n",
        "\n",
        "A better measure is R squared, which is normalized."
      ]
    },
    {
      "cell_type": "markdown",
      "metadata": {
        "id": "vq1SwzcVOsIF"
      },
      "source": [
        "### Q: Does scaling have an impact on the model? When should I scale?"
      ]
    },
    {
      "cell_type": "markdown",
      "metadata": {
        "id": "kSTZ2wTwOsIG"
      },
      "source": [
        "While the true benefits of scaling will be apparent during future modules, at this juncture we can discuss if it has an impact on the model.\n",
        "\n",
        "We'll rebuild the model after scaling the predictor and see what changes.\n",
        "\n",
        "The most popular methods for scaling:\n",
        "1. Min-Max Scaling\n",
        "2. Standard Scaling"
      ]
    },
    {
      "cell_type": "code",
      "execution_count": 65,
      "metadata": {
        "id": "tlURqeqXOsIG"
      },
      "outputs": [],
      "source": [
        "from sklearn.model_selection import train_test_split\n",
        "X_train, X_test, y_train, y_test = train_test_split(X, y, train_size = 0.7, test_size = 0.3, random_state = 100)"
      ]
    },
    {
      "cell_type": "markdown",
      "metadata": {
        "id": "YytTdiL7OsIG"
      },
      "source": [
        "#### SciKit Learn has these scaling utilities handy"
      ]
    },
    {
      "cell_type": "code",
      "execution_count": 70,
      "metadata": {
        "id": "1-arVjQHOsIG"
      },
      "outputs": [],
      "source": [
        "from sklearn.preprocessing import StandardScaler, MinMaxScaler"
      ]
    },
    {
      "cell_type": "code",
      "execution_count": 67,
      "metadata": {
        "id": "tI6FOJ8gOsIG"
      },
      "outputs": [],
      "source": [
        "# One aspect that you need to take care of is that the 'fit_transform' can be performed on 2D arrays only. So you need to\n",
        "# reshape your 'X_train_scaled' and 'y_trained_scaled' data in order to perform the standardisation.\n",
        "X_train_scaled = X_train.values.reshape(-1,1)\n",
        "y_train_scaled = y_train.values.reshape(-1,1)"
      ]
    },
    {
      "cell_type": "code",
      "execution_count": 68,
      "metadata": {
        "colab": {
          "base_uri": "https://localhost:8080/"
        },
        "id": "Ga6zuMc3OsIH",
        "outputId": "02c5d98b-80ea-4078-eab0-1929b50ae3ed"
      },
      "outputs": [
        {
          "output_type": "execute_result",
          "data": {
            "text/plain": [
              "(140, 1)"
            ]
          },
          "metadata": {},
          "execution_count": 68
        }
      ],
      "source": [
        "X_train_scaled.shape"
      ]
    },
    {
      "cell_type": "code",
      "execution_count": 72,
      "metadata": {
        "id": "jbqdCrBJOsIH"
      },
      "outputs": [],
      "source": [
        "# Create a scaler object using StandardScaler()\n",
        "scaler = StandardScaler()\n",
        "\n",
        "#'Fit' and transform the train set; and transform using the fit on the test set later\n",
        "X_train_scaled = scaler.fit_transform(X_train_scaled)\n",
        "y_train_scaled = scaler.fit_transform(y_train_scaled)"
      ]
    },
    {
      "cell_type": "code",
      "execution_count": 73,
      "metadata": {
        "colab": {
          "base_uri": "https://localhost:8080/"
        },
        "id": "WFTbJUeKOsIH",
        "outputId": "d793d078-58c6-4f44-b949-b2d17d023162"
      },
      "outputs": [
        {
          "output_type": "stream",
          "name": "stdout",
          "text": [
            "mean and sd for X_train_scaled: 2.5376526277146434e-17 1.0\n",
            "mean and sd for y_train_scaled: -3.8064789415719653e-17 1.0\n"
          ]
        }
      ],
      "source": [
        "print(\"mean and sd for X_train_scaled:\", np.mean(X_train_scaled), np.std(X_train_scaled))\n",
        "print(\"mean and sd for y_train_scaled:\", np.mean(y_train_scaled), np.std(y_train_scaled))"
      ]
    },
    {
      "cell_type": "code",
      "execution_count": 74,
      "metadata": {
        "id": "ACKsPReuOsIH"
      },
      "outputs": [],
      "source": [
        "# Let's fit the regression line following exactly the same steps as done before\n",
        "X_train_scaled = sm.add_constant(X_train_scaled)\n",
        "\n",
        "lr_scaled = sm.OLS(y_train_scaled, X_train_scaled).fit()"
      ]
    },
    {
      "cell_type": "code",
      "execution_count": 75,
      "metadata": {
        "colab": {
          "base_uri": "https://localhost:8080/"
        },
        "id": "_3ofhY7xOsIH",
        "outputId": "2d56cc1f-c298-407b-a0f3-adc5d8ffc063"
      },
      "outputs": [
        {
          "output_type": "execute_result",
          "data": {
            "text/plain": [
              "array([-1.73472348e-17,  9.03212773e-01])"
            ]
          },
          "metadata": {},
          "execution_count": 75
        }
      ],
      "source": [
        "# Check the parameters\n",
        "lr_scaled.params"
      ]
    },
    {
      "cell_type": "markdown",
      "metadata": {
        "id": "AfaaTuHiOsIH"
      },
      "source": [
        "As you might notice, the value of the parameters have changed since we have changed the scale."
      ]
    },
    {
      "cell_type": "markdown",
      "metadata": {
        "id": "iQS8NeoLOsIH"
      },
      "source": [
        "Let's look at the statistics of the model, to see if any other aspect of the model has changed."
      ]
    },
    {
      "cell_type": "code",
      "execution_count": 76,
      "metadata": {
        "colab": {
          "base_uri": "https://localhost:8080/"
        },
        "id": "sBgg5dsbOsIH",
        "outputId": "5824fb28-724d-440a-c1da-978bc6055d70"
      },
      "outputs": [
        {
          "output_type": "stream",
          "name": "stdout",
          "text": [
            "                            OLS Regression Results                            \n",
            "==============================================================================\n",
            "Dep. Variable:                      y   R-squared:                       0.816\n",
            "Model:                            OLS   Adj. R-squared:                  0.814\n",
            "Method:                 Least Squares   F-statistic:                     611.2\n",
            "Date:                Wed, 18 Oct 2023   Prob (F-statistic):           1.52e-52\n",
            "Time:                        11:57:02   Log-Likelihood:                -80.233\n",
            "No. Observations:                 140   AIC:                             164.5\n",
            "Df Residuals:                     138   BIC:                             170.3\n",
            "Df Model:                           1                                         \n",
            "Covariance Type:            nonrobust                                         \n",
            "==============================================================================\n",
            "                 coef    std err          t      P>|t|      [0.025      0.975]\n",
            "------------------------------------------------------------------------------\n",
            "const      -1.735e-17      0.037  -4.75e-16      1.000      -0.072       0.072\n",
            "x1             0.9032      0.037     24.722      0.000       0.831       0.975\n",
            "==============================================================================\n",
            "Omnibus:                        0.027   Durbin-Watson:                   2.196\n",
            "Prob(Omnibus):                  0.987   Jarque-Bera (JB):                0.150\n",
            "Skew:                          -0.006   Prob(JB):                        0.928\n",
            "Kurtosis:                       2.840   Cond. No.                         1.00\n",
            "==============================================================================\n",
            "\n",
            "Notes:\n",
            "[1] Standard Errors assume that the covariance matrix of the errors is correctly specified.\n"
          ]
        }
      ],
      "source": [
        "print(lr_scaled.summary())"
      ]
    },
    {
      "cell_type": "markdown",
      "metadata": {
        "id": "DKNrCUaqOsII"
      },
      "source": [
        "#### Model statistics and goodness of fit remain unchanged.\n",
        "\n",
        "##### So why scale at all?\n",
        "- Helps with interpretation (we'll be able to appreciate this better in later modules)\n",
        "- Faster convergence of gradient descent"
      ]
    }
  ],
  "metadata": {
    "kernelspec": {
      "display_name": "Python 3",
      "language": "python",
      "name": "python3"
    },
    "language_info": {
      "codemirror_mode": {
        "name": "ipython",
        "version": 3
      },
      "file_extension": ".py",
      "mimetype": "text/x-python",
      "name": "python",
      "nbconvert_exporter": "python",
      "pygments_lexer": "ipython3",
      "version": "3.6.5"
    },
    "colab": {
      "provenance": [],
      "collapsed_sections": [
        "MNJEXmADOsH8"
      ]
    }
  },
  "nbformat": 4,
  "nbformat_minor": 0
}